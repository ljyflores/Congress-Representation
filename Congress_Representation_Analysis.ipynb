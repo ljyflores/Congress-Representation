{
 "cells": [
  {
   "cell_type": "code",
   "execution_count": 32,
   "metadata": {},
   "outputs": [],
   "source": [
    "import pandas as pd\n",
    "import numpy as np\n",
    "import glob\n",
    "import seaborn as sb\n",
    "import matplotlib.pyplot as plt\n",
    "\n",
    "nameData = pd.read_csv(\"gender_refine-csv.csv\")\n",
    "all_files = glob.glob(\"/Users/lorenzoflores/Desktop/Yale_Academic/Stat Projects/Congress/Processed\" + \"/*.csv\")"
   ]
  },
  {
   "cell_type": "markdown",
   "metadata": {},
   "source": [
    "### Congress by Gender\n",
    "\n",
    "We read in the data and classify existing names based on a database from data.world"
   ]
  },
  {
   "cell_type": "code",
   "execution_count": 2,
   "metadata": {},
   "outputs": [],
   "source": [
    "data = [[None, None, None, None, None, None, None]]\n",
    "classified = pd.DataFrame(data, columns = ['Province', 'District', 'First', 'Last', 'Party', 'Year', 'Gender']) \n",
    "unclassified = pd.DataFrame(data, columns = ['Province', 'District', 'First', 'Last', 'Party', 'Year', 'Gender']) "
   ]
  },
  {
   "cell_type": "code",
   "execution_count": 3,
   "metadata": {},
   "outputs": [
    {
     "name": "stdout",
     "output_type": "stream",
     "text": [
      "Reading /Users/lorenzoflores/Desktop/Yale_Academic/Stat Projects/Congress/Processed/congress_processed_08.csv\n"
     ]
    },
    {
     "name": "stderr",
     "output_type": "stream",
     "text": [
      "/Users/lorenzoflores/anaconda3/lib/python3.7/site-packages/ipykernel_launcher.py:9: SettingWithCopyWarning: \n",
      "A value is trying to be set on a copy of a slice from a DataFrame\n",
      "\n",
      "See the caveats in the documentation: http://pandas.pydata.org/pandas-docs/stable/indexing.html#indexing-view-versus-copy\n",
      "  if __name__ == '__main__':\n",
      "/Users/lorenzoflores/anaconda3/lib/python3.7/site-packages/ipykernel_launcher.py:11: SettingWithCopyWarning: \n",
      "A value is trying to be set on a copy of a slice from a DataFrame\n",
      "\n",
      "See the caveats in the documentation: http://pandas.pydata.org/pandas-docs/stable/indexing.html#indexing-view-versus-copy\n",
      "  # This is added back by InteractiveShellApp.init_path()\n",
      "/Users/lorenzoflores/anaconda3/lib/python3.7/site-packages/ipykernel_launcher.py:15: SettingWithCopyWarning: \n",
      "A value is trying to be set on a copy of a slice from a DataFrame\n",
      "\n",
      "See the caveats in the documentation: http://pandas.pydata.org/pandas-docs/stable/indexing.html#indexing-view-versus-copy\n",
      "  from ipykernel import kernelapp as app\n",
      "/Users/lorenzoflores/anaconda3/lib/python3.7/site-packages/ipykernel_launcher.py:13: SettingWithCopyWarning: \n",
      "A value is trying to be set on a copy of a slice from a DataFrame\n",
      "\n",
      "See the caveats in the documentation: http://pandas.pydata.org/pandas-docs/stable/indexing.html#indexing-view-versus-copy\n",
      "  del sys.path[0]\n"
     ]
    },
    {
     "name": "stdout",
     "output_type": "stream",
     "text": [
      "Reading /Users/lorenzoflores/Desktop/Yale_Academic/Stat Projects/Congress/Processed/congress_processed_09.csv\n",
      "Reading /Users/lorenzoflores/Desktop/Yale_Academic/Stat Projects/Congress/Processed/congress_processed_10.csv\n",
      "Reading /Users/lorenzoflores/Desktop/Yale_Academic/Stat Projects/Congress/Processed/congress_processed_11.csv\n",
      "Reading /Users/lorenzoflores/Desktop/Yale_Academic/Stat Projects/Congress/Processed/congress_processed_12.csv\n",
      "Reading /Users/lorenzoflores/Desktop/Yale_Academic/Stat Projects/Congress/Processed/congress_processed_13.csv\n",
      "Reading /Users/lorenzoflores/Desktop/Yale_Academic/Stat Projects/Congress/Processed/congress_processed_14.csv\n",
      "Reading /Users/lorenzoflores/Desktop/Yale_Academic/Stat Projects/Congress/Processed/congress_processed_15.csv\n",
      "Reading /Users/lorenzoflores/Desktop/Yale_Academic/Stat Projects/Congress/Processed/congress_processed_16.csv\n",
      "Reading /Users/lorenzoflores/Desktop/Yale_Academic/Stat Projects/Congress/Processed/congress_processed_17.csv\n",
      "Reading /Users/lorenzoflores/Desktop/Yale_Academic/Stat Projects/Congress/Processed/congress_processed_18.csv\n"
     ]
    }
   ],
   "source": [
    "for item in all_files:\n",
    "    print(\"Reading \" + item)\n",
    "    file = pd.read_csv(item)\n",
    "    file['Gender'] = np.repeat(None, len(file['Province']))\n",
    "    for i in range(len(file['Name'])):\n",
    "        if sum(nameData['name']==file['First'][i])>0:\n",
    "            x = np.where(nameData['name']==file['First'][i])[0][0]\n",
    "            if nameData['gender'][x] == 1:\n",
    "                file['Gender'][i] = 'Male'\n",
    "            elif nameData['gender'][x] == 0:\n",
    "                file['Gender'][i] = 'Female'\n",
    "            else:\n",
    "                file['Gender'][i] = 'Unidentified'  \n",
    "        else:\n",
    "            file['Gender'][i] = 'Unidentified'\n",
    "    \n",
    "    classified = classified.append(file.loc[file['Gender'] != 'Unidentified', ['Province', 'District', 'First', 'Last', 'Party', 'Year', 'Gender']])\n",
    "    unclassified = unclassified.append(file.loc[file['Gender'] == 'Unidentified', ['Province', 'District', 'First', 'Last', 'Party', 'Year', 'Gender']])"
   ]
  },
  {
   "cell_type": "markdown",
   "metadata": {},
   "source": [
    "All unclassified names are separated out. Names with classifications are then summarized by their suffix counts, and these are used to predict the genders of unclassified names."
   ]
  },
  {
   "cell_type": "code",
   "execution_count": 4,
   "metadata": {},
   "outputs": [],
   "source": [
    "classified = classified.iloc[1:,]\n",
    "unclassified = unclassified.iloc[1:,]"
   ]
  },
  {
   "cell_type": "code",
   "execution_count": 5,
   "metadata": {},
   "outputs": [],
   "source": [
    "mFeatures = {}\n",
    "fFeatures = {}\n",
    "def gender_features(name, gender):\n",
    "    last_letter = name[-1].lower()\n",
    "    suffix2 = name[-2:].lower()\n",
    "    suffix3 = name[-3:].lower()\n",
    "    \n",
    "    if gender == 'Male':\n",
    "        if last_letter in mFeatures:\n",
    "            mFeatures[last_letter] += 1\n",
    "        else:\n",
    "            mFeatures[last_letter] = 1\n",
    "\n",
    "        if suffix2 in mFeatures:\n",
    "            mFeatures[suffix2] += 1\n",
    "        else:\n",
    "            mFeatures[suffix2] = 1\n",
    "            \n",
    "        if suffix3 in mFeatures:\n",
    "            mFeatures[suffix3] += 1\n",
    "        else:\n",
    "            mFeatures[suffix3] = 1\n",
    "    else:\n",
    "        if last_letter in fFeatures:\n",
    "            fFeatures[last_letter] += 1\n",
    "        else:\n",
    "            fFeatures[last_letter] = 1\n",
    "\n",
    "        if suffix2 in fFeatures:\n",
    "            fFeatures[suffix2] += 1\n",
    "        else:\n",
    "            fFeatures[suffix2] = 1\n",
    "            \n",
    "        if suffix3 in fFeatures:\n",
    "            fFeatures[suffix3] += 1\n",
    "        else:\n",
    "            fFeatures[suffix3] = 1        "
   ]
  },
  {
   "cell_type": "code",
   "execution_count": 6,
   "metadata": {},
   "outputs": [],
   "source": [
    "for item in zip(classified['First'],classified['Gender']):\n",
    "    gender_features(item[0],item[1])"
   ]
  },
  {
   "cell_type": "code",
   "execution_count": 7,
   "metadata": {},
   "outputs": [],
   "source": [
    "def matchGender(name):\n",
    "    last_letter = name[-1].lower()\n",
    "    suffix2 = name[-2:].lower()\n",
    "    suffix3 = name[-3:].lower()\n",
    "    \n",
    "    mScore1 = False\n",
    "    fScore1 = False\n",
    "    mScore2 = False\n",
    "    fScore2 = False\n",
    "    mScore3 = False\n",
    "    fScore3 = False\n",
    "    \n",
    "    if last_letter in mFeatures:\n",
    "        mScore1 = mFeatures[last_letter]\n",
    "    if last_letter in fFeatures:\n",
    "        fScore1 = fFeatures[last_letter]\n",
    "    if suffix2 in mFeatures:\n",
    "        mScore2 = mFeatures[suffix2]\n",
    "    if suffix2 in fFeatures:\n",
    "        fScore2 = fFeatures[suffix2]\n",
    "    if suffix3 in mFeatures:\n",
    "        mScore3 = mFeatures[suffix3]\n",
    "    if suffix3 in fFeatures:\n",
    "        fScore3 = fFeatures[suffix3]\n",
    "    \n",
    "    if suffix3 == 'lyn':\n",
    "        return 'Female'\n",
    "    \n",
    "    if mScore3 and fScore3:\n",
    "        if mScore3 > fScore3:\n",
    "            return 'Male'\n",
    "        else:\n",
    "            return 'Female'\n",
    "    elif mScore2 and fScore2:\n",
    "        if mScore2 > fScore2:\n",
    "            return 'Male'\n",
    "        else:\n",
    "            return 'Female'\n",
    "    elif mScore1 and fScore1:\n",
    "        if mScore1 > fScore1:\n",
    "            return 'Male'\n",
    "        else:\n",
    "            return 'Female'\n",
    "    else:\n",
    "        return 'Unidentified'"
   ]
  },
  {
   "cell_type": "code",
   "execution_count": 8,
   "metadata": {},
   "outputs": [],
   "source": [
    "unclassified['Gender'] = [matchGender(item) for item in unclassified['First']]\n",
    "data = classified.append(unclassified)\n",
    "data.index = range(2412)\n",
    "for i in range(len(data['Province'])):\n",
    "    data['Province'][i] = str(data['Province'][i]).strip()\n",
    "    data['District'][i] = str(data['District'][i]).strip()\n",
    "    data['District'][i] = str(data['Party'][i]).strip()"
   ]
  },
  {
   "cell_type": "markdown",
   "metadata": {},
   "source": [
    "Dataframes genderYear and genderProvince contain male-female proportions by year and province"
   ]
  },
  {
   "cell_type": "code",
   "execution_count": 9,
   "metadata": {
    "scrolled": true
   },
   "outputs": [],
   "source": [
    "genderYear = pd.crosstab(data['Year'], data['Gender']).apply(lambda r: round(100*(r/r.sum()),2), axis=1)\n",
    "genderYear['Year'] = range(1989,2022,3)"
   ]
  },
  {
   "cell_type": "code",
   "execution_count": 51,
   "metadata": {},
   "outputs": [
    {
     "data": {
      "image/png": "[encoded data removed]",
      "text/plain": [
       "<Figure size 432x288 with 1 Axes>"
      ]
     },
     "metadata": {},
     "output_type": "display_data"
    }
   ],
   "source": [
    "sns.set_style(\"darkgrid\")\n",
    "plt.plot(genderYear['Year'],genderYear['Female'], 'orange', marker=\".\", markersize=15)\n",
    "plt.plot(genderYear['Year'],genderYear['Male'], 'blue', marker=\".\", markersize=15)\n",
    "plt.xlabel('Year')\n",
    "plt.ylabel('Proportion')\n",
    "plt.title('Gender Proportion vs. Year')\n",
    "plt.show()\n"
   ]
  },
  {
   "cell_type": "code",
   "execution_count": 80,
   "metadata": {},
   "outputs": [],
   "source": [
    "genderProvince = pd.crosstab(data['Province'], data['Gender']).apply(lambda r: round(100*(r/r.sum()),2), axis=1)\n",
    "genderProvince['Province'] = genderProvince.index.values\n",
    "genderProvince['Province'] = genderProvince['Province'].str.upper()\n",
    "import csv\n",
    "genderProvince.to_csv('/Users/lorenzoflores/Desktop/Yale_Academic/genderProvince.csv')"
   ]
  },
  {
   "cell_type": "markdown",
   "metadata": {},
   "source": [
    "### Political Dynasties: Parties & People\n",
    "We then analyze which families and parties have maintained hold over provinces based on the congress representatives they have elected\n",
    "\n",
    "Below, we group all the congress people by province and last name and summarize them. The most prominent last name over the years is listed in the table polPartyData."
   ]
  },
  {
   "cell_type": "code",
   "execution_count": 11,
   "metadata": {},
   "outputs": [],
   "source": [
    "polParties = {}\n",
    "for i in range(len(data['First'])):\n",
    "    prov = data['Province'][i]\n",
    "    yr = data['Year'][i]\n",
    "    last = data['Last'][i]\n",
    "    \n",
    "    if prov in polParties:\n",
    "        if last in polParties[prov]:\n",
    "            polParties[prov][last].append(yr)\n",
    "            polParties[prov][last].sort()\n",
    "        else:\n",
    "            polParties[prov][last] = [yr]\n",
    "    else:\n",
    "        polParties[prov] = {}\n",
    "        polParties[prov][last] = [yr]"
   ]
  },
  {
   "cell_type": "code",
   "execution_count": 17,
   "metadata": {},
   "outputs": [],
   "source": [
    "polPartyData = []\n",
    "\n",
    "for prov in polParties:\n",
    "    maxName = ''\n",
    "    maxCount = 0\n",
    "    maxYears = ''\n",
    "    for name in polParties[prov]:\n",
    "        if len(set(polParties[prov][name])) > maxCount:\n",
    "            maxName = name\n",
    "            maxYears = set(polParties[prov][name])\n",
    "            maxCount = len(set(polParties[prov][name]))\n",
    "    polPartyData.append([prov, maxName, sorted(maxYears), maxCount])\n",
    "    \n",
    "polPartyData = pd.DataFrame(polPartyData, columns = ['Province', 'Name', 'Years', 'Count'])\n"
   ]
  },
  {
   "cell_type": "markdown",
   "metadata": {},
   "source": [
    "Then, we group all the congress people by province and party and summarize them. The most prominent last name over the years is listed in the table provPartyData. \n",
    "\n",
    "We first clean the data by party name to get the main parties."
   ]
  },
  {
   "cell_type": "code",
   "execution_count": 13,
   "metadata": {},
   "outputs": [],
   "source": [
    "for i in range(len(data['Party'])):\n",
    "    if 'aksyon' in data['Party'][i].lower():\n",
    "        data['Party'][i] = 'Aksyon'\n",
    "    elif 'independent' in data['Party'][i].lower():\n",
    "        data['Party'][i] = 'Independent'\n",
    "    elif 'ldp' in data['Party'][i].lower():\n",
    "        data['Party'][i] = 'LDP'\n",
    "    elif 'kbl' in data['Party'][i].lower():\n",
    "        data['Party'][i] = 'KBL'\n",
    "    elif 'pdp-laban' in data['Party'][i].lower():\n",
    "        data['Party'][i] = 'PDP-Laban'\n",
    "    elif 'lakas' in data['Party'][i].lower():\n",
    "        data['Party'][i] = 'Lakas'\n",
    "    elif 'liberal' in data['Party'][i].lower():\n",
    "        data['Party'][i] = 'Liberal'\n",
    "    elif 'npc' in data['Party'][i].lower():\n",
    "        data['Party'][i] = 'NPC'\n",
    "    elif 'nup' in data['Party'][i].lower():\n",
    "        data['Party'][i] = 'NUP'\n",
    "    elif 'nacionalista' in data['Party'][i].lower():\n",
    "        data['Party'][i] = 'Nacionalista'\n",
    "    elif 'pmp' in data['Party'][i].lower():\n",
    "        data['Party'][i] = 'PMP'\n",
    "    elif 'una' in data['Party'][i].lower():\n",
    "        data['Party'][i] = 'UNA'\n",
    "    elif 'reporma' in data['Party'][i].lower():\n",
    "        data['Party'][i] = 'Reporma-LM'\n",
    "    elif data['Party'][i].lower() == '' or data['Party'][i].lower() == ' ':\n",
    "        data['Party'][i] = 'Independent'\n",
    "    else:\n",
    "        data['Party'][i] = data['Party'][i].strip()\n"
   ]
  },
  {
   "cell_type": "code",
   "execution_count": 14,
   "metadata": {},
   "outputs": [],
   "source": [
    "provParties = {}\n",
    "for i in range(len(data['Party'])):\n",
    "    prov = data['Province'][i]\n",
    "    yr = data['Year'][i]\n",
    "    party = data['Party'][i]\n",
    "    \n",
    "    if prov in provParties:\n",
    "        if party in provParties[prov]:\n",
    "            provParties[prov][party].append(yr)\n",
    "            provParties[prov][party].sort()\n",
    "        else:\n",
    "            provParties[prov][party] = [yr]\n",
    "    else:\n",
    "        provParties[prov] = {}\n",
    "        provParties[prov][party] = [yr]"
   ]
  },
  {
   "cell_type": "code",
   "execution_count": 18,
   "metadata": {},
   "outputs": [],
   "source": [
    "provPartyData = []\n",
    "\n",
    "for prov in provParties:\n",
    "    maxParty = ''\n",
    "    maxCount = 0\n",
    "    maxYears = ''\n",
    "    for party in provParties[prov]:\n",
    "        if len(set(provParties[prov][party])) > maxCount:\n",
    "            maxParty = party\n",
    "            maxYears = set(provParties[prov][party])\n",
    "            maxCount = len(set(provParties[prov][party]))\n",
    "    provPartyData.append([prov, maxParty, sorted(maxYears), maxCount])\n",
    "    \n",
    "provPartyData = pd.DataFrame(provPartyData, columns = ['Province', 'Party', 'Years', 'Count'])\n"
   ]
  },
  {
   "cell_type": "code",
   "execution_count": 81,
   "metadata": {},
   "outputs": [],
   "source": [
    "polPartyData['Province'] = polPartyData['Province'].str.upper()\n",
    "polPartyData.to_csv('/Users/lorenzoflores/Desktop/Yale_Academic/polPartyData.csv')"
   ]
  },
  {
   "cell_type": "code",
   "execution_count": 82,
   "metadata": {},
   "outputs": [],
   "source": [
    "provPartyData['Province'] = provPartyData['Province'].str.upper()\n",
    "provPartyData.to_csv('/Users/lorenzoflores/Desktop/Yale_Academic/provPartyData.csv')"
   ]
  }
 ],
 "metadata": {
  "kernelspec": {
   "display_name": "Python 3",
   "language": "python",
   "name": "python3"
  },
  "language_info": {
   "codemirror_mode": {
    "name": "ipython",
    "version": 3
   },
   "file_extension": ".py",
   "mimetype": "text/x-python",
   "name": "python",
   "nbconvert_exporter": "python",
   "pygments_lexer": "ipython3",
   "version": "3.7.1"
  }
 },
 "nbformat": 4,
 "nbformat_minor": 2
}
